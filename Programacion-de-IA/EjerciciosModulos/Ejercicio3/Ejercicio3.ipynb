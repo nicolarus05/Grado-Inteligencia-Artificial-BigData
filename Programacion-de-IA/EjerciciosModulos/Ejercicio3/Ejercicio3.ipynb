{
 "cells": [
  {
   "cell_type": "markdown",
   "id": "31104f01",
   "metadata": {},
   "source": [
    "3) Trabajando con fechas (datetime)\n",
    "Tareas\n",
    "\n",
    "Muestra la fecha y hora actuales.\n",
    "Muestra solo el año, mes y día.\n",
    "Calcula la diferencia en días entre hoy y el 31/12/2025."
   ]
  },
  {
   "cell_type": "code",
   "execution_count": 2,
   "id": "116323eb",
   "metadata": {},
   "outputs": [
    {
     "name": "stdout",
     "output_type": "stream",
     "text": [
      "Fecha y hora actuales: 2025-10-21 17:44:10.674740\n",
      "Año, mes y día: 2025-10-21\n",
      "Diferencia en días hasta el 31/12/2025: 71 días\n"
     ]
    }
   ],
   "source": [
    "from datetime import datetime, date\n",
    "\n",
    "# Tarea 1: Mostrar la fecha y hora actuales.\n",
    "fecha_hora_actual = datetime.now()\n",
    "print(f\"Fecha y hora actuales: {fecha_hora_actual}\")\n",
    "\n",
    "# Tarea 2: Mostrar solo el año, mes y día.\n",
    "solo_fecha = fecha_hora_actual.date()\n",
    "print(f\"Año, mes y día: {solo_fecha}\")\n",
    "\n",
    "# Tarea 3: Calcular la diferencia en días entre hoy y el 31/12/2025.\n",
    "fecha_futura = date(2025, 12, 31)\n",
    "diferencia_dias = (fecha_futura - solo_fecha).days\n",
    "print(f\"Diferencia en días hasta el 31/12/2025: {diferencia_dias} días\")"
   ]
  }
 ],
 "metadata": {
  "kernelspec": {
   "display_name": "Python 3",
   "language": "python",
   "name": "python3"
  },
  "language_info": {
   "codemirror_mode": {
    "name": "ipython",
    "version": 3
   },
   "file_extension": ".py",
   "mimetype": "text/x-python",
   "name": "python",
   "nbconvert_exporter": "python",
   "pygments_lexer": "ipython3",
   "version": "3.12.3"
  }
 },
 "nbformat": 4,
 "nbformat_minor": 5
}
