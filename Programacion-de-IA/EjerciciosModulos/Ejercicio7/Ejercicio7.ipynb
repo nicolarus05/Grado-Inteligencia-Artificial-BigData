{
 "cells": [
  {
   "cell_type": "markdown",
   "id": "affd35ef",
   "metadata": {},
   "source": [
    "7) Instalación de paquetes con pip y uso de requests\n",
    "En tu terminal (fuera de Python) instala:\n",
    "pip install requests\n",
    "Crea un programa en Python que haga una petición GET a https://api.github.com usando requests y muestre el código de estado."
   ]
  },
  {
   "cell_type": "code",
   "execution_count": null,
   "id": "77cf6eaf",
   "metadata": {},
   "outputs": [
    {
     "name": "stdout",
     "output_type": "stream",
     "text": [
      "✓ La petición fue exitosa\n"
     ]
    }
   ],
   "source": [
    "import requests\n",
    "\n",
    "# Hacer una petición GET a la API de GitHub\n",
    "url = 'https://api.github.com'\n",
    "respuesta = requests.get(url)\n",
    "\n",
    "# Información adicional\n",
    "if respuesta.status_code == 200:\n",
    "    print(\"✓ La petición fue exitosa\")\n",
    "else:\n",
    "    print(\"✗ Hubo un problema con la petición\")\n",
    "    "
   ]
  }
 ],
 "metadata": {
  "kernelspec": {
   "display_name": "Python 3",
   "language": "python",
   "name": "python3"
  },
  "language_info": {
   "codemirror_mode": {
    "name": "ipython",
    "version": 3
   },
   "file_extension": ".py",
   "mimetype": "text/x-python",
   "name": "python",
   "nbconvert_exporter": "python",
   "pygments_lexer": "ipython3",
   "version": "3.12.3"
  }
 },
 "nbformat": 4,
 "nbformat_minor": 5
}
