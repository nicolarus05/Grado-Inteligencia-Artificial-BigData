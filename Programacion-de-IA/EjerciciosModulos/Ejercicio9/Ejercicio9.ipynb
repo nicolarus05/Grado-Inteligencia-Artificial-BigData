{
 "cells": [
  {
   "cell_type": "markdown",
   "id": "fcf8d34b",
   "metadata": {},
   "source": [
    "9) from ... import ... (lanzamiento de moneda)\n",
    "Importa solo la función choice de random y simula 5 lanzamientos de una moneda (cara o cruz)."
   ]
  },
  {
   "cell_type": "code",
   "execution_count": 11,
   "id": "934ef989",
   "metadata": {},
   "outputs": [
    {
     "name": "stdout",
     "output_type": "stream",
     "text": [
      "Resultados de los lanzamientos de la moneda: ['cara', 'cruz', 'cara', 'cruz', 'cara']\n"
     ]
    }
   ],
   "source": [
    "from random import choice\n",
    "\n",
    "# Simular 5 lanzamientos de una moneda\n",
    "result = [choice(['cara', 'cruz']) for _ in range(5)]\n",
    "print(\"Resultados de los lanzamientos de la moneda:\", result)"
   ]
  }
 ],
 "metadata": {
  "kernelspec": {
   "display_name": "Python 3",
   "language": "python",
   "name": "python3"
  },
  "language_info": {
   "codemirror_mode": {
    "name": "ipython",
    "version": 3
   },
   "file_extension": ".py",
   "mimetype": "text/x-python",
   "name": "python",
   "nbconvert_exporter": "python",
   "pygments_lexer": "ipython3",
   "version": "3.12.3"
  }
 },
 "nbformat": 4,
 "nbformat_minor": 5
}
