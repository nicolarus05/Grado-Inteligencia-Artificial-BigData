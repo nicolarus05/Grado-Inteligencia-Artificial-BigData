{
 "cells": [
  {
   "cell_type": "markdown",
   "id": "07164e2f",
   "metadata": {},
   "source": [
    "1) Importación básica de módulos (math)\n",
    "Tareas\n",
    "\n",
    "Calcula la raíz cuadrada de 144.\n",
    "Calcula el seno de 45 grados (recuerda que math.sin usa radianes).\n",
    "Calcula el logaritmo base 10 de 1000."
   ]
  },
  {
   "cell_type": "code",
   "execution_count": 5,
   "id": "7ad63e80",
   "metadata": {},
   "outputs": [
    {
     "name": "stdout",
     "output_type": "stream",
     "text": [
      "Raíz cuadrada de 144: 12.0\n",
      "Seno de 45 grados: 0.7071067811865475\n",
      "Logaritmo base 10 de 1000: 3.0\n"
     ]
    }
   ],
   "source": [
    "# Pista: import math\n",
    "# - math.sqrt(144)\n",
    "# - math.sin(math.radians(45))\n",
    "# - math.log10(1000)\n",
    "\n",
    "from math import sqrt, sin, log10, radians\n",
    "\n",
    "# Tarea 1: Calcular la raíz cuadrada de 144\n",
    "raiz_cuadrada = sqrt(144)\n",
    "print(f\"Raíz cuadrada de 144: {raiz_cuadrada}\")\n",
    "\n",
    "# Tarea 2: Calcular el seno de 45 grados\n",
    "seno_45 = sin(radians(45))\n",
    "print(f\"Seno de 45 grados: {seno_45}\")\n",
    "\n",
    "# Tarea 3: Calcular el logaritmo base 10 de 1000\n",
    "log_1000 = log10(1000)\n",
    "print(f\"Logaritmo base 10 de 1000: {log_1000}\")\n"
   ]
  }
 ],
 "metadata": {
  "kernelspec": {
   "display_name": "Python 3",
   "language": "python",
   "name": "python3"
  },
  "language_info": {
   "codemirror_mode": {
    "name": "ipython",
    "version": 3
   },
   "file_extension": ".py",
   "mimetype": "text/x-python",
   "name": "python",
   "nbconvert_exporter": "python",
   "pygments_lexer": "ipython3",
   "version": "3.12.3"
  }
 },
 "nbformat": 4,
 "nbformat_minor": 5
}
