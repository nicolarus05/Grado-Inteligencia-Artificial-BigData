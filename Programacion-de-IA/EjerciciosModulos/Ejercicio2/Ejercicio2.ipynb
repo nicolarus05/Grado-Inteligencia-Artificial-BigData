{
 "cells": [
  {
   "cell_type": "markdown",
   "id": "3144ddf6",
   "metadata": {},
   "source": [
    "2) Uso del módulo random\n",
    "Tareas\n",
    "\n",
    "Genera un número aleatorio entre 1 y 100.\n",
    "Elige un elemento al azar de una lista de nombres.\n",
    "Mezcla una lista de números y muéstrala desordenada."
   ]
  },
  {
   "cell_type": "code",
   "execution_count": null,
   "id": "f42d1f85",
   "metadata": {},
   "outputs": [
    {
     "name": "stdout",
     "output_type": "stream",
     "text": [
      "Número aleatorio entre 1 y 100: 50\n",
      "Nombre aleatorio elegido: Luis\n",
      "Lista de números desordenada: [10, 7, 1, 3, 4, 8, 2, 9, 6, 5]\n"
     ]
    }
   ],
   "source": [
    "from random import randint, choice, shuffle\n",
    "\n",
    "# Tarea 1: Generar un número aleatorio entre 1 y 100\n",
    "num_aleatorio = randint(1, 100)\n",
    "print(f\"Número aleatorio entre 1 y 100: {num_aleatorio}\")\n",
    "\n",
    "# Tarea 2: Elegir un elemento al azar de una lista de nombres\n",
    "nombres = [\"Ana\", \"Luis\", \"Carlos\", \"Marta\", \"Sofía\"]\n",
    "nombre_aleatorio = choice(nombres)\n",
    "print(f\"Nombre aleatorio elegido: {nombre_aleatorio}\")\n",
    "\n",
    "# Tarea 3: Mezclar una lista de números y mostrarla desordenada\n",
    "numeros = [1, 2, 3, 4, 5, 6, 7, 8, 9, 10]\n",
    "shuffle(numeros)\n",
    "print(f\"Lista de números desordenada: {numeros}\")"
   ]
  }
 ],
 "metadata": {
  "kernelspec": {
   "display_name": "Python 3",
   "language": "python",
   "name": "python3"
  },
  "language_info": {
   "codemirror_mode": {
    "name": "ipython",
    "version": 3
   },
   "file_extension": ".py",
   "mimetype": "text/x-python",
   "name": "python",
   "nbconvert_exporter": "python",
   "pygments_lexer": "ipython3",
   "version": "3.12.3"
  }
 },
 "nbformat": 4,
 "nbformat_minor": 5
}
