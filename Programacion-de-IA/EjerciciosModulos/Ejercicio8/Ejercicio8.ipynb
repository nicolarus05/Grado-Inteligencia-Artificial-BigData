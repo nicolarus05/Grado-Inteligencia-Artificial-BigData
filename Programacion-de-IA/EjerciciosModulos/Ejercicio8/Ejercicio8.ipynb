{
 "cells": [
  {
   "cell_type": "markdown",
   "id": "2eb2704f",
   "metadata": {},
   "source": [
    "8) Estructura de un paquete\n",
    "Crea un paquete llamado utilidades/ con la estructura:\n",
    "\n",
    "utilidades/\n",
    "├── __init__.py\n",
    "├── cadenas.py    # funciones de texto (por ejemplo: a_mayus, contar_vocales)\n",
    "└── numeros.py    # funciones matemáticas (por ejemplo: es_par, promedio)\n",
    "Luego crea main.py que importe y use funciones de cadenas y numeros."
   ]
  },
  {
   "cell_type": "code",
   "execution_count": 2,
   "id": "1fffd42d",
   "metadata": {},
   "outputs": [
    {
     "name": "stdout",
     "output_type": "stream",
     "text": [
      "Número de vocales en 'Hola Mundo': 4\n",
      "10 es un número par.\n"
     ]
    }
   ],
   "source": [
    "from cadenas import contar_vocales\n",
    "from numeros import es_par\n",
    "\n",
    "# Prueba del modulo cadenas\n",
    "texto = \"Hola Mundo\"\n",
    "num_vocales = contar_vocales(texto)\n",
    "print(f\"Número de vocales en '{texto}': {num_vocales}\")\n",
    "\n",
    "# Prueba del modulo numeros\n",
    "numero = 10\n",
    "if es_par(numero):\n",
    "    print(f\"{numero} es un número par.\")\n",
    "else:\n",
    "    print(f\"{numero} es un número impar.\")"
   ]
  }
 ],
 "metadata": {
  "kernelspec": {
   "display_name": "Python 3",
   "language": "python",
   "name": "python3"
  },
  "language_info": {
   "codemirror_mode": {
    "name": "ipython",
    "version": 3
   },
   "file_extension": ".py",
   "mimetype": "text/x-python",
   "name": "python",
   "nbconvert_exporter": "python",
   "pygments_lexer": "ipython3",
   "version": "3.12.3"
  }
 },
 "nbformat": 4,
 "nbformat_minor": 5
}
