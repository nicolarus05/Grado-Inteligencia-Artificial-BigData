{
 "cells": [
  {
   "cell_type": "markdown",
   "id": "b3f1d39e",
   "metadata": {},
   "source": [
    "4) Alias y funciones específicas\n",
    "Importa el módulo math como m y usa solo la función pow() para calcular potencias.\n",
    "Ejemplo esperado: m.pow(3, 4)."
   ]
  },
  {
   "cell_type": "code",
   "execution_count": 1,
   "id": "f1641ede",
   "metadata": {},
   "outputs": [
    {
     "name": "stdout",
     "output_type": "stream",
     "text": [
      "3 elevado a 4 es: 81.0\n",
      "2 elevado a 5 es: 32.0\n"
     ]
    }
   ],
   "source": [
    "from math import pow as m\n",
    "\n",
    "# Calcular 3 elevado a 4\n",
    "resultado = m(3, 4)\n",
    "print(f\"3 elevado a 4 es: {resultado}\")\n",
    "\n",
    "# Calcular 2 elevado a 5\n",
    "resultado2 = m(2, 5)\n",
    "print(f\"2 elevado a 5 es: {resultado2}\")"
   ]
  }
 ],
 "metadata": {
  "kernelspec": {
   "display_name": "Python 3",
   "language": "python",
   "name": "python3"
  },
  "language_info": {
   "codemirror_mode": {
    "name": "ipython",
    "version": 3
   },
   "file_extension": ".py",
   "mimetype": "text/x-python",
   "name": "python",
   "nbconvert_exporter": "python",
   "pygments_lexer": "ipython3",
   "version": "3.12.3"
  }
 },
 "nbformat": 4,
 "nbformat_minor": 5
}
