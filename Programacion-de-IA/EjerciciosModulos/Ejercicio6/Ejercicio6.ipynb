{
 "cells": [
  {
   "cell_type": "markdown",
   "id": "20a7be3f",
   "metadata": {},
   "source": [
    "6) Explorando los atributos de un módulo (dir())\n",
    "Aplica dir() sobre el módulo math y guarda el resultado (uno por línea) en un archivo llamado funciones_math.txt en el directorio del cuaderno."
   ]
  },
  {
   "cell_type": "code",
   "execution_count": 2,
   "id": "a8a80eba",
   "metadata": {},
   "outputs": [
    {
     "name": "stdout",
     "output_type": "stream",
     "text": [
      "Se han guardado 66 atributos en 'funciones_math.txt'\n",
      "\n",
      "Primeros 10 atributos:\n",
      "1. __doc__\n",
      "2. __loader__\n",
      "3. __name__\n",
      "4. __package__\n",
      "5. __spec__\n",
      "6. acos\n",
      "7. acosh\n",
      "8. asin\n",
      "9. asinh\n",
      "10. atan\n"
     ]
    }
   ],
   "source": [
    "import math\n",
    "\n",
    "# Obtener todos los atributos del módulo math\n",
    "atributos_math = dir(math)\n",
    "\n",
    "# Guardar en un archivo, uno por línea\n",
    "with open('funciones_math.txt', 'w') as archivo:\n",
    "    for atributo in atributos_math: # Escribir cada atributo en una nueva línea\n",
    "        archivo.write(atributo + '\\n') # Escribir cada atributo en una nueva línea\n",
    "\n",
    "print(f\"Se han guardado {len(atributos_math)} atributos en 'funciones_math.txt'\") # Imprimir el número total de atributos guardados\n",
    "print(f\"\\nPrimeros 10 atributos:\")\n",
    "for i, atributo in enumerate(atributos_math[:10]): # Imprimir los primeros 10 atributos\n",
    "    print(f\"{i + 1}. {atributo}\") # Imprimir cada atributo\n"
   ]
  }
 ],
 "metadata": {
  "kernelspec": {
   "display_name": "Python 3",
   "language": "python",
   "name": "python3"
  },
  "language_info": {
   "codemirror_mode": {
    "name": "ipython",
    "version": 3
   },
   "file_extension": ".py",
   "mimetype": "text/x-python",
   "name": "python",
   "nbconvert_exporter": "python",
   "pygments_lexer": "ipython3",
   "version": "3.12.3"
  }
 },
 "nbformat": 4,
 "nbformat_minor": 5
}
