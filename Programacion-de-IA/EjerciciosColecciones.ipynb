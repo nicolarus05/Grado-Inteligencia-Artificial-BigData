{
 "cells": [
  {
   "cell_type": "markdown",
   "id": "baabd750",
   "metadata": {
    "vscode": {
     "languageId": "plaintext"
    }
   },
   "source": [
    "#1. Crea una lista de 5 números; usa append para agregar un número, insert para colocar otro en la posición 2 y luego remove el primer elemento. \n",
    "Imprime la lista en cada paso."
   ]
  },
  {
   "cell_type": "code",
   "execution_count": null,
   "id": "a09bbe7f",
   "metadata": {
    "ExecuteTime": {
     "end_time": "2025-10-15T14:32:37.460628Z",
     "start_time": "2025-10-15T14:32:37.448223Z"
    }
   },
   "outputs": [
    {
     "name": "stdout",
     "output_type": "stream",
     "text": [
      "[2, 6, 3, 4, 5, 6]\n"
     ]
    }
   ],
   "source": [
    "lista = [1, 2, 3, 4, 5]\n",
    "\n",
    "#Añado un numero a la lista.\n",
    "lista.append(6)\n",
    "\n",
    "#Coloco el numero 6 en la posicion 2.\n",
    "lista.insert(1, 6)\n",
    "\n",
    "#Elimino el primer elemento de la lista.\n",
    "lista.remove(1)\n",
    "\n",
    "#imprimo la lista.\n",
    "print(lista)"
   ]
  },
  {
   "cell_type": "markdown",
   "id": "2a1444fe",
   "metadata": {},
   "source": [
    "#2. Crea una tupla con al menos 4 elementos; intenta cambiar uno de ellos y maneja la excepción con un bloque try-except."
   ]
  },
  {
   "cell_type": "code",
   "execution_count": null,
   "id": "03deb288",
   "metadata": {
    "ExecuteTime": {
     "end_time": "2025-10-15T14:32:55.884736Z",
     "start_time": "2025-10-15T14:32:55.881078Z"
    }
   },
   "outputs": [
    {
     "name": "stdout",
     "output_type": "stream",
     "text": [
      "Error: 'tuple' object does not support item assignment\n"
     ]
    }
   ],
   "source": [
    "tup = (1, 2, 3, 4)\n",
    "\n",
    "try:\n",
    "    tup[0] = 10\n",
    "except TypeError as error:\n",
    "    print(\"Error:\", error)"
   ]
  },
  {
   "cell_type": "markdown",
   "id": "da7ed162",
   "metadata": {},
   "source": [
    "#3. Crea un diccionario que represente a una persona con las claves nombre, edad y ciudad. Añade una nueva clave profesión, luego actualiza la edad y finalmente recorre el diccionario imprimiendo claves y valores."
   ]
  },
  {
   "cell_type": "code",
   "execution_count": null,
   "id": "27fecb38",
   "metadata": {
    "ExecuteTime": {
     "end_time": "2025-10-15T14:33:09.517495Z",
     "start_time": "2025-10-15T14:33:09.513415Z"
    }
   },
   "outputs": [
    {
     "name": "stdout",
     "output_type": "stream",
     "text": [
      "nombre: Juan\n",
      "edad: 20\n",
      "ciudad: Madrid\n",
      "profesion: maestro\n"
     ]
    }
   ],
   "source": [
    "dicc = {\n",
    "    \"nombre\": \"Juan\",\n",
    "    \"edad\": 30,\n",
    "    \"ciudad\": \"Madrid\",\n",
    "}\n",
    "\n",
    "#Añado una nuevo clave.\n",
    "dicc['profesion'] = 'maestro'\n",
    "\n",
    "#actualizo la edad.\n",
    "dicc['edad'] = 20\n",
    "\n",
    "#Recorro el diccionario.\n",
    "for clave, valor in dicc.items():\n",
    "    print(f\"{clave}: {valor}\")"
   ]
  },
  {
   "cell_type": "markdown",
   "id": "7ca01814",
   "metadata": {},
   "source": [
    "#4. Dadas dos diccionarios con notas de estudiantes, combínalos en un único diccionario (las claves duplicadas deben actualizar sus valores)."
   ]
  },
  {
   "cell_type": "code",
   "execution_count": null,
   "id": "f0956411",
   "metadata": {
    "ExecuteTime": {
     "end_time": "2025-10-15T14:35:23.991589Z",
     "start_time": "2025-10-15T14:35:23.987868Z"
    }
   },
   "outputs": [
    {
     "name": "stdout",
     "output_type": "stream",
     "text": [
      "{'Ana': 8, 'Luis': 10, 'Marta': 7}\n",
      "Ana: 8\n",
      "Luis: 10\n",
      "Marta: 7\n"
     ]
    }
   ],
   "source": [
    "dicc1 = {\n",
    "    \"Ana\": 8,\n",
    "    \"Luis\": 9,\n",
    "    \"Marta\": 7,\n",
    "}\n",
    "\n",
    "dicc2 = {\n",
    "    \"Luis\": 10,\n",
    "    \"Marta\": 8,\n",
    "}\n",
    "\n",
    "#Combino los dos diccionarios.\n",
    "dicc1.update(dicc2)\n",
    "\n",
    "#Imprimo el diccionario combinado.\n",
    "for clave, valor in dicc1.items():\n",
    "    print(f\"{clave}: {valor}\")"
   ]
  },
  {
   "cell_type": "markdown",
   "id": "56046e4b",
   "metadata": {},
   "source": [
    "#5. Crea dos conjuntos de números enteros; calcula e imprime su unión, intersección y diferencia."
   ]
  },
  {
   "cell_type": "code",
   "execution_count": null,
   "id": "fca8f6de",
   "metadata": {
    "ExecuteTime": {
     "end_time": "2025-10-15T14:38:53.178363Z",
     "start_time": "2025-10-15T14:38:53.173947Z"
    }
   },
   "outputs": [
    {
     "name": "stdout",
     "output_type": "stream",
     "text": [
      "Union: {1, 2, 3, 4, 5, 6}\n",
      "Interseccion: {3, 4}\n",
      "Diferencia: {1, 2}\n"
     ]
    }
   ],
   "source": [
    "conjunto1 = {1, 2, 3, 4}\n",
    "conjunto2 = {3, 4, 5, 6}\n",
    "\n",
    "#Union de conjuntos.\n",
    "union = conjunto1.union(conjunto2)\n",
    "\n",
    "#Interseccion de conjuntos.\n",
    "interseccion = conjunto1.intersection(conjunto2)\n",
    "\n",
    "#Diferencia de conjuntos.\n",
    "diferencia = conjunto1.difference(conjunto2)\n",
    "\n",
    "print(\"Union:\", union)\n",
    "print(\"Interseccion:\", interseccion)\n",
    "print(\"Diferencia:\", diferencia)"
   ]
  },
  {
   "cell_type": "markdown",
   "id": "f89d2d08",
   "metadata": {},
   "source": [
    "#6. Utiliza un conjunto para eliminar los valores duplicados de una lista; imprime la lista original y el conjunto resultante."
   ]
  },
  {
   "cell_type": "code",
   "execution_count": null,
   "id": "56ce6f17",
   "metadata": {},
   "outputs": [],
   "source": [
    "conjunto = {1, 2, 3, 4, 5}\n",
    "\n",
    "listaDuplicados = [1, 2, 2, 3, 4, 4, 5]\n",
    "\n",
    "#Elimino los duplicados convirtiendo la lista en un conjunto.\n",
    "conjuntoSinDuplicados = set(listaDuplicados)\n",
    "\n",
    "#Imprimo la lista original y el conjunto sin duplicados.\n",
    "print(\"Lista original:\", listaDuplicados)\n",
    "print(\"Conjunto sin duplicados:\", conjuntoSinDuplicados)"
   ]
  },
  {
   "cell_type": "markdown",
   "id": "c846a4da",
   "metadata": {},
   "source": [
    "#7. Recorre una lista usando un bucle for e imprime cada elemento junto con su índice usando enumerate()."
   ]
  },
  {
   "cell_type": "code",
   "execution_count": null,
   "id": "01a38068",
   "metadata": {
    "ExecuteTime": {
     "end_time": "2025-10-15T14:50:27.662705Z",
     "start_time": "2025-10-15T14:50:27.659324Z"
    }
   },
   "outputs": [
    {
     "name": "stdout",
     "output_type": "stream",
     "text": [
      "Indice: 0, Elemento: a\n",
      "Indice: 1, Elemento: b\n",
      "Indice: 2, Elemento: c\n",
      "Indice: 3, Elemento: d\n",
      "Indice: 4, Elemento: e\n",
      "Indice: 5, Elemento: f\n",
      "Indice: 6, Elemento: g\n",
      "Indice: 7, Elemento: h\n",
      "Indice: 8, Elemento: i\n",
      "Indice: 9, Elemento: j\n"
     ]
    }
   ],
   "source": [
    "lista = ['a', 'b', 'c', 'd', 'e', 'f', 'g', 'h', 'i', 'j']\n",
    "\n",
    "for indice, elemento in enumerate(lista):\n",
    "    print(f\"Indice: {indice}, Elemento: {elemento}\")"
   ]
  },
  {
   "cell_type": "markdown",
   "id": "4cbd6687",
   "metadata": {},
   "source": [
    "#8. Utiliza una lista por comprensión para generar una lista con los cuadrados de los números del 1 al 10."
   ]
  },
  {
   "cell_type": "code",
   "execution_count": null,
   "id": "317f5104",
   "metadata": {
    "ExecuteTime": {
     "end_time": "2025-10-15T15:01:16.718457Z",
     "start_time": "2025-10-15T15:01:16.713719Z"
    }
   },
   "outputs": [
    {
     "name": "stdout",
     "output_type": "stream",
     "text": [
      "[1, 4, 9, 16, 25, 36, 49, 64, 81, 100]\n"
     ]
    }
   ],
   "source": [
    "cuadrados = [i**2 for i in range(1, 11)]\n",
    "print(cuadrados)"
   ]
  },
  {
   "cell_type": "markdown",
   "id": "09cf8ca7",
   "metadata": {},
   "source": [
    "#9. Utiliza una lista por comprensión con condición para crear una lista de los números pares entre 1 y 20."
   ]
  },
  {
   "cell_type": "code",
   "execution_count": null,
   "id": "1715135a",
   "metadata": {
    "ExecuteTime": {
     "end_time": "2025-10-15T15:01:17.991054Z",
     "start_time": "2025-10-15T15:01:17.987417Z"
    }
   },
   "outputs": [
    {
     "name": "stdout",
     "output_type": "stream",
     "text": [
      "[2, 4, 6, 8, 10, 12, 14, 16, 18, 20]\n"
     ]
    }
   ],
   "source": [
    "pares = [i for i in range(1, 21) if i % 2 == 0]\n",
    "print(pares)"
   ]
  },
  {
   "cell_type": "markdown",
   "id": "8eb778e5",
   "metadata": {},
   "source": [
    "#10. Utiliza una comprensión de diccionario para intercambiar las claves y valores de un diccionario dado."
   ]
  },
  {
   "cell_type": "code",
   "execution_count": null,
   "id": "4ec51f64",
   "metadata": {
    "ExecuteTime": {
     "end_time": "2025-10-15T15:01:19.883686Z",
     "start_time": "2025-10-15T15:01:19.879913Z"
    }
   },
   "outputs": [
    {
     "name": "stdout",
     "output_type": "stream",
     "text": [
      "{1: 'a', 2: 'b', 3: 'c'}\n"
     ]
    }
   ],
   "source": [
    "#Creo el diccionario\n",
    "diccionario = {\n",
    "    'a': 1,\n",
    "    'b': 2,\n",
    "    'c': 3\n",
    "}\n",
    "\n",
    "#Intercambio claves y valores\n",
    "diccionario_invertido = {valor: clave for clave, valor in diccionario.items()}\n",
    "print(diccionario_invertido)"
   ]
  }
 ],
 "metadata": {
  "kernelspec": {
   "display_name": "Python 3",
   "language": "python",
   "name": "python3"
  },
  "language_info": {
   "codemirror_mode": {
    "name": "ipython",
    "version": 3
   },
   "file_extension": ".py",
   "mimetype": "text/x-python",
   "name": "python",
   "nbconvert_exporter": "python",
   "pygments_lexer": "ipython3",
   "version": "3.13.7"
  }
 },
 "nbformat": 4,
 "nbformat_minor": 5
}
