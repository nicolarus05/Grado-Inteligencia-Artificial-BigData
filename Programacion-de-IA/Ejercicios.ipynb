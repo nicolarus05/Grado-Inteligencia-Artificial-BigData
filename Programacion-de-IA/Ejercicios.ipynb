{
 "cells": [
  {
   "cell_type": "markdown",
   "id": "04d54351",
   "metadata": {},
   "source": [
    "#Ejercicio 1. Genera un numero aleatorio y pide al usuario adivinar hasta acertar. Usa while y condicionales"
   ]
  },
  {
   "cell_type": "code",
   "execution_count": null,
   "id": "ed1022ce",
   "metadata": {},
   "outputs": [],
   "source": [
    "import random\n",
    "num_aleatorio = random.randint(1, 10)\n",
    "adivinar = 0\n",
    "while adivinar != num_aleatorio:\n",
    "    adivinar = int(input(\"Adivina el numero: \"))\n",
    "    if adivinar < num_aleatorio:\n",
    "        print(\"Demasiado bajo\")\n",
    "    elif adivinar > num_aleatorio:\n",
    "        print(\"Demasiado alto\")\n",
    "    else: \n",
    "        print(\"Correcto!\")"
   ]
  },
  {
   "cell_type": "markdown",
   "id": "401a98a3",
   "metadata": {},
   "source": [
    "#Ejercicio 2. Solicita un entero positivo y calcula su factorial con un bucle for. Muestra el resultado al final"
   ]
  },
  {
   "cell_type": "code",
   "execution_count": null,
   "id": "9bca9da6",
   "metadata": {},
   "outputs": [],
   "source": [
    "num = int(input(\"Introduce un numero positivo: \"))\n",
    "factorial = 1\n",
    "if num < 0:\n",
    "    print(\"El numero no es positivo\")\n",
    "else:\n",
    "    for i in range(1, num + 1):\n",
    "        factorial *= i\n",
    "    print(\"El factorial de\", num, \"es:\", factorial)"
   ]
  },
  {
   "cell_type": "markdown",
   "id": "f2f9b4fb",
   "metadata": {},
   "source": [
    "#Ejercicio 3. Muestra opciones(sumar, restar, salir). Emplea un bucle while true con if/elif y break para salir"
   ]
  },
  {
   "cell_type": "code",
   "execution_count": null,
   "id": "ab999259",
   "metadata": {},
   "outputs": [],
   "source": [
    "num1 = float(input(\"Introduce el primer numero: \"))\n",
    "num2 = float(input(\"Introduce el segundo numero: \"))\n",
    "while True:\n",
    "    print(\"1. Sumar\")\n",
    "    print(\"2. Restar\")\n",
    "    print(\"3. Salir\")\n",
    "    opcion = int(input(\"Selecciona una opcion: \"))\n",
    "    \n",
    "    if opcion == 1:\n",
    "        print(\"La suma es:\\n\", num1 + num2)\n",
    "    elif opcion == 2:\n",
    "        print(\"La resta es:\\n\", num1 - num2)\n",
    "    elif opcion == 3:\n",
    "        print(\"Saliendo...\")\n",
    "        break\n",
    "    else:\n",
    "        print(\"Opcion no valida. Intenta de nuevo.\")"
   ]
  },
  {
   "cell_type": "markdown",
   "id": "8e3c413b",
   "metadata": {},
   "source": [
    "#Ejercicio 4. Dado 3 numeros, encuentra e imprime el mayor utilizando sentencias if anidadas"
   ]
  },
  {
   "cell_type": "code",
   "execution_count": null,
   "id": "e925a48e",
   "metadata": {},
   "outputs": [],
   "source": [
    "num1 = float(input(\"Introduce el primer numero: \"))\n",
    "num2 = float(input(\"Introduce el segundo numero: \"))\n",
    "num3 = float(input(\"Introduce el tercer numero: \"))\n",
    "\n",
    "if (num1 >= num2) and (num1 >= num3):\n",
    "    mayor = num1\n",
    "elif (num2 >= num1) and (num2 >= num3):\n",
    "    mayor = num2\n",
    "else:\n",
    "    mayor = num3\n",
    "print(\"El mayor es:\", mayor)"
   ]
  },
  {
   "cell_type": "markdown",
   "id": "7e4563da",
   "metadata": {},
   "source": [
    "#Ejercicio 5. Escribe un programa que imprima la tabla de multiplicar del 1 al 10 de un numero proporcionado por el usuario usando un bucle for"
   ]
  },
  {
   "cell_type": "code",
   "execution_count": null,
   "id": "119c4784",
   "metadata": {},
   "outputs": [],
   "source": [
    "num1 = int(input(\"Introduce un numero para ver su tabla de multiplicar: \"))\n",
    "for i in range(1, 11):\n",
    "    print(num1, \"x\", i, \"=\", num1 * i)"
   ]
  },
  {
   "cell_type": "markdown",
   "id": "47a3bf08",
   "metadata": {},
   "source": [
    "#Ejercicio 6. Usa un bucle while para sumar numeros hasta que el numero supere 100. muestra cuantas iteraciones han sido necesarias"
   ]
  },
  {
   "cell_type": "code",
   "execution_count": null,
   "id": "2c1f924f",
   "metadata": {},
   "outputs": [],
   "source": [
    "suma = 0\n",
    "contador = 0\n",
    "while suma <= 100:\n",
    "    num = float(input(\"Introduce un numero para sumar: \"))\n",
    "    suma += num\n",
    "    contador += 1\n",
    "print(\"Se han necesitado\", contador, \"iteraciones para superar 100. La suma es:\", suma)"
   ]
  },
  {
   "cell_type": "markdown",
   "id": "e4f120f8",
   "metadata": {},
   "source": [
    "#Ejercicio 7. Demuestra el uso de break buscando un valor especifico en una lista y deteniendo el bucle al encontrarlo"
   ]
  },
  {
   "cell_type": "code",
   "execution_count": null,
   "id": "2f5aa7f0",
   "metadata": {},
   "outputs": [],
   "source": [
    "lista = [3, 5, 7, 9, 11, 13, 15]\n",
    "valor_buscado = int(input(\"Introduce un valor a buscar en la lista: \"))\n",
    "for numero in lista:\n",
    "    if numero == valor_buscado:\n",
    "        print(\"Valor encontrado:\", numero)\n",
    "        break\n",
    "else:\n",
    "    print(\"El valor no esta en la lista.\")"
   ]
  },
  {
   "cell_type": "markdown",
   "id": "f00fc2e3",
   "metadata": {},
   "source": [
    "#Ejercicio 8. Demuestra el uso de continue imprimiendo todos los numeros impares del 1 al 20"
   ]
  },
  {
   "cell_type": "code",
   "execution_count": null,
   "id": "fe5fccde",
   "metadata": {},
   "outputs": [],
   "source": [
    "for i in range(1, 21):\n",
    "    if i % 2 == 0:\n",
    "        continue\n",
    "    print(i)"
   ]
  },
  {
   "cell_type": "markdown",
   "id": "abacc9c7",
   "metadata": {},
   "source": [
    "#Ejercicio 9. Utiliza un bucle for con una clausula else para buscar un elemento en una lista y mostrar un mensaje si no se encuentra"
   ]
  },
  {
   "cell_type": "code",
   "execution_count": null,
   "id": "140566e9",
   "metadata": {},
   "outputs": [
    {
     "name": "stdout",
     "output_type": "stream",
     "text": [
      "Valor encontrado: 2\n"
     ]
    }
   ],
   "source": [
    "lista = [2, 4, 6, 8, 10]\n",
    "valor_buscado = int(input(\"Introduce un valor a buscar en la lista: \"))\n",
    "for numero in lista:\n",
    "    if numero == valor_buscado:\n",
    "        print(\"Valor encontrado:\", numero)\n",
    "        break\n",
    "else:\n",
    "    print(\"El valor no esta en la lista.\")"
   ]
  },
  {
   "cell_type": "markdown",
   "id": "b7785c89",
   "metadata": {},
   "source": [
    "#Ejercicio 10. Escribe un bucle anidado que imprima un triangulo de asteriscos con un numero de filas especificado por el usuario"
   ]
  },
  {
   "cell_type": "code",
   "execution_count": null,
   "id": "9723bed5",
   "metadata": {},
   "outputs": [
    {
     "name": "stdout",
     "output_type": "stream",
     "text": [
      "                   *\n",
      "                  ***\n",
      "                 *****\n",
      "                *******\n",
      "               *********\n",
      "              ***********\n",
      "             *************\n",
      "            ***************\n",
      "           *****************\n",
      "          *******************\n",
      "         *********************\n",
      "        ***********************\n",
      "       *************************\n",
      "      ***************************\n",
      "     *****************************\n",
      "    *******************************\n",
      "   *********************************\n",
      "  ***********************************\n",
      " *************************************\n",
      "***************************************\n"
     ]
    }
   ],
   "source": [
    "asteriscos = int(input(\"Introduce el numero de filas para el triangulo de asteriscos: \"))\n",
    "for i in range(1, asteriscos + 1):\n",
    "    for x in range(asteriscos - i):\n",
    "        print(\" \", end=\"\")\n",
    "    for j in range(2*i-1):\n",
    "        print(\"*\", end=\"\")\n",
    "    print()"
   ]
  }
 ],
 "metadata": {
  "kernelspec": {
   "display_name": "Python 3",
   "language": "python",
   "name": "python3"
  },
  "language_info": {
   "codemirror_mode": {
    "name": "ipython",
    "version": 3
   },
   "file_extension": ".py",
   "mimetype": "text/x-python",
   "name": "python",
   "nbconvert_exporter": "python",
   "pygments_lexer": "ipython3",
   "version": "3.13.7"
  }
 },
 "nbformat": 4,
 "nbformat_minor": 5
}
