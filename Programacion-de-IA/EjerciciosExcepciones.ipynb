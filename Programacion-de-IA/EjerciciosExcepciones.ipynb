{
 "cells": [
  {
   "cell_type": "markdown",
   "id": "1b0e3176",
   "metadata": {},
   "source": [
    "#1. Escribe un programa que pida al usuario dos números y los divida. Si el divisor es cero, captura la excepción ZeroDivisionError e imprime un mensaje adecuado."
   ]
  },
  {
   "cell_type": "code",
   "execution_count": null,
   "id": "1366fa2c",
   "metadata": {},
   "outputs": [],
   "source": []
  },
  {
   "cell_type": "markdown",
   "id": "e3c071c2",
   "metadata": {},
   "source": [
    "#2. Implementa una función que solicite al usuario un número entero y devuelva ese número si es válido y positivo. Utiliza try/except para manejar valores no enteros (ValueError) y define una excepción personalizada NumeroNegativoError para valores negativos."
   ]
  },
  {
   "cell_type": "code",
   "execution_count": null,
   "id": "90176fbd",
   "metadata": {},
   "outputs": [],
   "source": []
  },
  {
   "cell_type": "markdown",
   "id": "fe7115cc",
   "metadata": {},
   "source": [
    "#3. Crea una función que lea un archivo cuyo nombre recibe por parámetro. Maneja la excepción FileNotFoundError si el archivo no existe e imprime un mensaje de error. Utiliza finally para asegurarte de que el archivo se cierra, independientemente de si ocurrió una excepción."
   ]
  },
  {
   "cell_type": "code",
   "execution_count": null,
   "id": "2a3f1ef6",
   "metadata": {},
   "outputs": [],
   "source": []
  },
  {
   "cell_type": "markdown",
   "id": "ee398f3f",
   "metadata": {},
   "source": [
    "#4. Escribe una función raiz_cuadrada(x) que devuelva la raíz cuadrada de x. Si x es un número negativo, lanza una excepción personalizada ValorNegativoError. Utiliza try/except para manejar valores que no se puedan convertir a número (ValueError)."
   ]
  },
  {
   "cell_type": "code",
   "execution_count": null,
   "id": "6478b396",
   "metadata": {},
   "outputs": [],
   "source": []
  },
  {
   "cell_type": "markdown",
   "id": "79b75d82",
   "metadata": {},
   "source": [
    "#5. Crea un programa que solicite dos números y realice una resta. Usa un bloque else para mostrar el resultado solo si no se produjo ninguna excepción y finally para imprimir “Proceso terminado” al final."
   ]
  },
  {
   "cell_type": "code",
   "execution_count": null,
   "id": "105e9b7e",
   "metadata": {},
   "outputs": [],
   "source": []
  },
  {
   "cell_type": "markdown",
   "id": "974b7786",
   "metadata": {},
   "source": [
    "#6. Dada una lista de valores de cadenas valores = [\"1\", \"2\", \"a\", \"4\"], intenta convertir cada elemento a entero dentro de un bucle for. Si se produce un ValueError, muestra un mensaje y continúa con el siguiente elemento. Al final, imprime la suma de los valores convertidos correctamente."
   ]
  },
  {
   "cell_type": "code",
   "execution_count": null,
   "id": "1af31dda",
   "metadata": {},
   "outputs": [],
   "source": []
  },
  {
   "cell_type": "markdown",
   "id": "47f31468",
   "metadata": {},
   "source": [
    "#7. Define una excepción PasswordError que se lance cuando una contraseña sea demasiado corta (menos de 8 caracteres). Crea una función que solicite al usuario una contraseña y la valide. Maneja la excepción e informa al usuario si la contraseña no cumple la longitud mínima."
   ]
  },
  {
   "cell_type": "code",
   "execution_count": null,
   "id": "76ce8967",
   "metadata": {},
   "outputs": [],
   "source": []
  },
  {
   "cell_type": "markdown",
   "id": "7e2d31f2",
   "metadata": {},
   "source": [
    "#8. Supón que tienes un diccionario usuarios = {\"juan\": \"1234\", \"ana\": \"abcd\"} donde las claves son nombres de usuario y los valores son contraseñas. Escribe una función iniciar_sesion(usuario, contraseña) que devuelva True si el usuario existe y la contraseña coincide. Lanza un KeyError si el usuario no existe y un ValueError si la contraseña es incorrecta. Implementa el manejo de estas excepciones."
   ]
  },
  {
   "cell_type": "code",
   "execution_count": null,
   "id": "89169eda",
   "metadata": {},
   "outputs": [],
   "source": []
  },
  {
   "cell_type": "markdown",
   "id": "c539b1bb",
   "metadata": {},
   "source": [
    "#9. Crea una función que convierta una cadena a entero. Si se produce un ValueError, captura la excepción e imprime un mensaje, pero luego utiliza raise sin argumentos para relanzar la excepción. Maneja la excepción fuera de la función y muestra un mensaje de fin de programa."
   ]
  },
  {
   "cell_type": "code",
   "execution_count": null,
   "id": "0ebb6478",
   "metadata": {},
   "outputs": [],
   "source": []
  },
  {
   "cell_type": "markdown",
   "id": "2ffced8b",
   "metadata": {},
   "source": [
    "#10. Escribe un programa que pida al usuario la ruta de un archivo y cuente cuántas líneas tiene. Utiliza un bloque try para abrir el archivo. En un bloque else, lee el número de líneas y muestra el total. En el bloque finally, asegúrate de cerrar el archivo e imprime un mensaje de finalización. Maneja las excepciones FileNotFoundError y PermissionError."
   ]
  },
  {
   "cell_type": "code",
   "execution_count": null,
   "id": "e00c7ce8",
   "metadata": {},
   "outputs": [],
   "source": []
  }
 ],
 "metadata": {
  "language_info": {
   "name": "python"
  }
 },
 "nbformat": 4,
 "nbformat_minor": 5
}
