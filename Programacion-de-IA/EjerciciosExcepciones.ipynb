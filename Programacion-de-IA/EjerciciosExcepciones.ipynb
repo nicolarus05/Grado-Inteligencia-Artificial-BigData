{
 "cells": [
  {
   "cell_type": "markdown",
   "id": "1b0e3176",
   "metadata": {},
   "source": [
    "#1. Escribe un programa que pida al usuario dos números y los divida. Si el divisor es cero, captura la excepción ZeroDivisionError e imprime un mensaje adecuado."
   ]
  },
  {
   "cell_type": "code",
   "execution_count": null,
   "id": "5e17d3d2",
   "metadata": {},
   "outputs": [],
   "source": [
    "num1 = float(input(\"Introduce el numerador: \"))\n",
    "num2 = float(input(\"Introduce el divisor: \"))\n",
    "\n",
    "try:\n",
    "    resultado = num1 / num2\n",
    "except ZeroDivisionError:\n",
    "    print(\"Error: División por cero no permitida.\")\n",
    "except ValueError:\n",
    "    print(\"Error: Entrada no válida. Introduce números.\")\n",
    "else:\n",
    "    print(f\"Resultado: {resultado}\")\n",
    "finally:\n",
    "    print(\"Programa terminado.\")"
   ]
  },
  {
   "cell_type": "markdown",
   "id": "e3c071c2",
   "metadata": {},
   "source": [
    "#2. Implementa una función que solicite al usuario un número entero y devuelva ese número si es válido y positivo. Utiliza try/except para manejar valores no enteros (ValueError) y define una excepción personalizada NumeroNegativoError para valores negativos."
   ]
  },
  {
   "cell_type": "code",
   "execution_count": 2,
   "id": "90176fbd",
   "metadata": {},
   "outputs": [
    {
     "name": "stdout",
     "output_type": "stream",
     "text": [
      "Error: El número no es positivo.\n",
      "Programa terminado.\n"
     ]
    }
   ],
   "source": [
    "try:\n",
    "    num = int(input(\"Introduce un número entero positivo: \"))\n",
    "    if num < 0:\n",
    "        raise ValueError(\"El número no es positivo.\")\n",
    "    else:\n",
    "        print(f\"El número introducido es: {num}\")\n",
    "except ValueError as err:\n",
    "    print(f\"Error: {err}\")\n",
    "finally:\n",
    "    print(\"Programa terminado.\")"
   ]
  },
  {
   "cell_type": "markdown",
   "id": "fe7115cc",
   "metadata": {},
   "source": [
    "#3. Crea una función que lea un archivo cuyo nombre recibe por parámetro. Maneja la excepción FileNotFoundError si el archivo no existe e imprime un mensaje de error. Utiliza finally para asegurarte de que el archivo se cierra, independientemente de si ocurrió una excepción."
   ]
  },
  {
   "cell_type": "code",
   "execution_count": null,
   "id": "2a3f1ef6",
   "metadata": {},
   "outputs": [],
   "source": [
    "def leer_archivo(nombre):\n",
    "    archivo = None\n",
    "    try:\n",
    "        archivo = open(nombre, \"r\", encoding=\"utf-8\")\n",
    "        contenido = archivo.read()\n",
    "    except FileNotFoundError:\n",
    "        print(f\"Error: El archivo '{nombre}' no existe.\")\n",
    "        return None\n",
    "    else:\n",
    "        print(\"Contenido del archivo:\")\n",
    "        print(contenido)\n",
    "        return contenido\n",
    "    finally:\n",
    "        if archivo:\n",
    "            archivo.close()"
   ]
  },
  {
   "cell_type": "markdown",
   "id": "ee398f3f",
   "metadata": {},
   "source": [
    "#4. Escribe una función raiz_cuadrada(x) que devuelva la raíz cuadrada de x. Si x es un número negativo, lanza una excepción personalizada ValorNegativoError. Utiliza try/except para manejar valores que no se puedan convertir a número (ValueError)."
   ]
  },
  {
   "cell_type": "code",
   "execution_count": null,
   "id": "6478b396",
   "metadata": {},
   "outputs": [],
   "source": [
    "class ValorNegativoError(Exception):\n",
    "    \n",
    "    pass\n",
    "\n",
    "def raiz_cuadrada(x):\n",
    "    try:\n",
    "        num = float(x)\n",
    "    except ValueError:\n",
    "        print(\"Error: no se pudo convertir el valor a número.\")\n",
    "        return None\n",
    "    if num < 0:\n",
    "        raise ValorNegativoError(f\"Valor negativo: {num}\")\n",
    "    return num ** 0.5\n",
    "\n",
    "# Ejemplos de uso\n",
    "print(raiz_cuadrada(9))\n",
    "print(raiz_cuadrada(\"16\"))\n",
    "print(raiz_cuadrada(\"abc\"))\n",
    "\n",
    "try:\n",
    "    raiz_cuadrada(-4)\n",
    "except ValorNegativoError as e:\n",
    "    print(f\"Capturada excepción personalizada: {e}\")"
   ]
  },
  {
   "cell_type": "markdown",
   "id": "79b75d82",
   "metadata": {},
   "source": [
    "#5. Crea un programa que solicite dos números y realice una resta. Usa un bloque else para mostrar el resultado solo si no se produjo ninguna excepción y finally para imprimir “Proceso terminado” al final."
   ]
  },
  {
   "cell_type": "code",
   "execution_count": null,
   "id": "105e9b7e",
   "metadata": {},
   "outputs": [],
   "source": [
    "try:\n",
    "    num1 = float(input(\"Introduce el primer número: \"))\n",
    "    num2 = float(input(\"Introduce el segundo número: \"))\n",
    "    resultado = num1 - num2\n",
    "except ValueError:\n",
    "    print(\"Error: Entrada no válida. Introduce números.\")\n",
    "else:\n",
    "    print(f\"Resultado: {resultado}\")\n",
    "finally:\n",
    "    print(\"Proceso terminado.\")"
   ]
  },
  {
   "cell_type": "markdown",
   "id": "974b7786",
   "metadata": {},
   "source": [
    "#6. Dada una lista de valores de cadenas valores = [\"1\", \"2\", \"a\", \"4\"], intenta convertir cada elemento a entero dentro de un bucle for. Si se produce un ValueError, muestra un mensaje y continúa con el siguiente elemento. Al final, imprime la suma de los valores convertidos correctamente."
   ]
  },
  {
   "cell_type": "code",
   "execution_count": null,
   "id": "1af31dda",
   "metadata": {},
   "outputs": [],
   "source": [
    "valores = [\"1\", \"2\", \"a\", \"4\"]\n",
    "\n",
    "suma = 0\n",
    "for valor in valores:\n",
    "    try:\n",
    "        num = int(valor)\n",
    "    except ValueError:\n",
    "        print(f\"Valor '{valor}' no convertible a entero.\")\n",
    "        continue\n",
    "    suma += num\n",
    "\n",
    "print(f\"Suma de valores convertidos: {suma}\")"
   ]
  },
  {
   "cell_type": "markdown",
   "id": "47f31468",
   "metadata": {},
   "source": [
    "#7. Define una excepción PasswordError que se lance cuando una contraseña sea demasiado corta (menos de 8 caracteres). Crea una función que solicite al usuario una contraseña y la valide. Maneja la excepción e informa al usuario si la contraseña no cumple la longitud mínima."
   ]
  },
  {
   "cell_type": "code",
   "execution_count": null,
   "id": "76ce8967",
   "metadata": {},
   "outputs": [],
   "source": [
    "class PasswordError(Exception):\n",
    "\n",
    "    pass\n",
    "\n",
    "def solicitar_contrasena():\n",
    "    contra = input(\"Introduce una contraseña: \")\n",
    "    if len(contra) < 8:\n",
    "        raise PasswordError(\"La contraseña debe tener al menos 8 caracteres.\")\n",
    "    print(\"Contraseña válida.\")\n",
    "    return contra\n",
    "\n",
    "# Manejo de la excepción\n",
    "try:\n",
    "    solicitar_contrasena()\n",
    "except PasswordError as e:\n",
    "    print(f\"Error: {e}\")"
   ]
  },
  {
   "cell_type": "markdown",
   "id": "7e2d31f2",
   "metadata": {},
   "source": [
    "#8. Supón que tienes un diccionario usuarios = {\"juan\": \"1234\", \"ana\": \"abcd\"} donde las claves son nombres de usuario y los valores son contraseñas. Escribe una función iniciar_sesion(usuario, contraseña) que devuelva True si el usuario existe y la contraseña coincide. Lanza un KeyError si el usuario no existe y un ValueError si la contraseña es incorrecta. Implementa el manejo de estas excepciones."
   ]
  },
  {
   "cell_type": "code",
   "execution_count": 14,
   "id": "89169eda",
   "metadata": {},
   "outputs": [
    {
     "name": "stdout",
     "output_type": "stream",
     "text": [
      "Contraseña incorrecta.\n",
      "Contraseña incorrecta.\n",
      "\"Usuario 'maria' no encontrado.\"\n"
     ]
    }
   ],
   "source": [
    "# Diccionario de usuarios (claves: usuario, valores: contraseña)\n",
    "usuarios = {\"juan\": \"1234\", \"ana\": \"abcd\"}\n",
    "\n",
    "def iniciar_sesion(usuario, contrasena):\n",
    "\n",
    "    if usuario not in usuarios: # Verificar si el usuario existe\n",
    "        raise KeyError(f\"Usuario '{usuario}' no encontrado.\")\n",
    "    if usuarios[usuario] != contrasena:\n",
    "        raise ValueError(\"Contraseña incorrecta.\")\n",
    "    return True\n",
    "\n",
    "# Ejemplos de uso y manejo de excepciones\n",
    "intentos = [\n",
    "    (\"juan\", \"7777\"),\n",
    "    (\"ana\", \"wrong\"),\n",
    "    (\"maria\", \"pass\"),\n",
    "]\n",
    "\n",
    "for usuario, contra in intentos:\n",
    "    try:\n",
    "        if iniciar_sesion(usuario, contra):\n",
    "            print(f\"Inicio de sesión exitoso para '{usuario}'.\")\n",
    "    except KeyError as err:\n",
    "        print(f\"{err}\")\n",
    "    except ValueError as ve:\n",
    "        print(f\"{ve}\")"
   ]
  },
  {
   "cell_type": "markdown",
   "id": "c539b1bb",
   "metadata": {},
   "source": [
    "#9. Crea una función que convierta una cadena a entero. Si se produce un ValueError, captura la excepción e imprime un mensaje, pero luego utiliza raise sin argumentos para relanzar la excepción. Maneja la excepción fuera de la función y muestra un mensaje de fin de programa."
   ]
  },
  {
   "cell_type": "code",
   "execution_count": 22,
   "id": "0ebb6478",
   "metadata": {},
   "outputs": [
    {
     "name": "stdout",
     "output_type": "stream",
     "text": [
      "'123' convertido a entero: 123\n",
      "Error interno: no se pudo convertir 'abc' a entero.\n",
      "Se relanzó ValueError al intentar convertir 'abc'.\n",
      "Error interno: no se pudo convertir '@' a entero.\n",
      "Se relanzó ValueError al intentar convertir '@'.\n",
      "Fin del programa.\n"
     ]
    }
   ],
   "source": [
    "def convertir_a_entero(cadena):\n",
    "    try:\n",
    "        return int(cadena) # Intentar convertir la cadena a entero\n",
    "    except ValueError:\n",
    "        print(f\"Error interno: no se pudo convertir '{cadena}' a entero.\")\n",
    "        raise # Relanzar la excepción\n",
    "\n",
    "# Ejemplos y manejo de la excepción fuera de la función\n",
    "valores = [\"123\", \"abc\", \"@\"]\n",
    "\n",
    "for valor in valores:\n",
    "    try:\n",
    "        resultado = convertir_a_entero(valor)\n",
    "    except Exception:\n",
    "        print(f\"Se relanzó ValueError al intentar convertir '{valor}'.\")\n",
    "    else:\n",
    "        print(f\"'{valor}' convertido a entero: {resultado}\")\n",
    "\n",
    "print(\"Fin del programa.\")"
   ]
  },
  {
   "cell_type": "markdown",
   "id": "2ffced8b",
   "metadata": {},
   "source": [
    "#10. Escribe un programa que pida al usuario la ruta de un archivo y cuente cuántas líneas tiene. Utiliza un bloque try para abrir el archivo. En un bloque else, lee el número de líneas y muestra el total. En el bloque finally, asegúrate de cerrar el archivo e imprime un mensaje de finalización. Maneja las excepciones FileNotFoundError y PermissionError."
   ]
  },
  {
   "cell_type": "code",
   "execution_count": 24,
   "id": "e00c7ce8",
   "metadata": {},
   "outputs": [
    {
     "name": "stdout",
     "output_type": "stream",
     "text": [
      "Total de líneas en 'hola.txt': 3\n",
      "Finalizado.\n"
     ]
    }
   ],
   "source": [
    "ruta = input(\"Introduce la ruta del archivo: \")\n",
    "archivo = None\n",
    "\n",
    "try:\n",
    "    archivo = open(ruta, \"r\")\n",
    "except FileNotFoundError:\n",
    "    print(f\"Error: El archivo '{ruta}' no existe.\")\n",
    "except PermissionError:\n",
    "    print(f\"Error: Permiso denegado para abrir '{ruta}'.\")\n",
    "else:\n",
    "    # Contar líneas solo si no hubo excepción al abrir\n",
    "    lineas = sum(1 for _ in archivo)\n",
    "    print(f\"Total de líneas en '{ruta}': {lineas}\")\n",
    "finally:\n",
    "    if archivo:\n",
    "        archivo.close()\n",
    "    print(\"Finalizado.\")"
   ]
  }
 ],
 "metadata": {
  "kernelspec": {
   "display_name": "Python 3",
   "language": "python",
   "name": "python3"
  },
  "language_info": {
   "codemirror_mode": {
    "name": "ipython",
    "version": 3
   },
   "file_extension": ".py",
   "mimetype": "text/x-python",
   "name": "python",
   "nbconvert_exporter": "python",
   "pygments_lexer": "ipython3",
   "version": "3.13.7"
  }
 },
 "nbformat": 4,
 "nbformat_minor": 5
}
